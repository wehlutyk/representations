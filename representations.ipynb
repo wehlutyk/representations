{
 "metadata": {
  "name": "representations"
 },
 "nbformat": 3,
 "nbformat_minor": 0,
 "worksheets": [
  {
   "cells": [
    {
     "cell_type": "markdown",
     "metadata": {},
     "source": [
      "# Features"
     ]
    },
    {
     "cell_type": "markdown",
     "metadata": {},
     "source": [
      "## Social or personal\n",
      "Appealing to an evolved capability for social behaviour. Analogous to *direct gaze*.\n",
      "\n",
      "Socially oriented content, towards the person or the personality, making use of theory of mind.\n",
      "\n",
      "**e.g.:**\n",
      "\n",
      "* A critique on someone: \"[He] is not a man who sees america as you and i do\"."
     ]
    },
    {
     "cell_type": "code",
     "collapsed": false,
     "input": [
      "# Using a list of keywords, getting from that a \"social\" index\n",
      "# Cross-verifying with hand-coded sentences"
     ],
     "language": "python",
     "metadata": {},
     "outputs": [],
     "prompt_number": 5
    },
    {
     "cell_type": "markdown",
     "metadata": {},
     "source": [
      "## Sperber-relevant\n",
      "That lets you infer more from your premisses."
     ]
    },
    {
     "cell_type": "code",
     "collapsed": false,
     "input": [
      "# Using Graphbrain"
     ],
     "language": "python",
     "metadata": {},
     "outputs": [],
     "prompt_number": 6
    },
    {
     "cell_type": "markdown",
     "metadata": {},
     "source": [
      "## Personally relevant\n",
      "Specific details linked to personal history, directly or by idea association, or metaphor."
     ]
    },
    {
     "cell_type": "markdown",
     "metadata": {},
     "source": [
      "## Narrative-related\n",
      "Follows certain story schemas, known categories.\n",
      "\n",
      "**e.g.:**\n",
      "\n",
      "* Adversarial talk: \"Each day brings further evidence that the ways we use energy strengthen our adversaries and threaten our planet\", \"conflict and discord\", \"failure\", \"success\"\n",
      "* Politcally relevant, marking someone as good or bad in a debate or a controversy: \"I don't know what to do/what to say\""
     ]
    },
    {
     "cell_type": "code",
     "collapsed": false,
     "input": [
      "# Using a list of keywords, getting from that a \"narrative\" index\n",
      "# Cross-verifying with hand-coded sentences\n",
      "\n",
      "# Using Graphbrain"
     ],
     "language": "python",
     "metadata": {},
     "outputs": []
    },
    {
     "cell_type": "markdown",
     "metadata": {},
     "source": [
      "## Emotionally loaded\n",
      "\n",
      "Even if completely wrong and disproved."
     ]
    },
    {
     "cell_type": "code",
     "collapsed": false,
     "input": [
      "# Use a list of keywords, key-verbs, key-constructs\n",
      "# Cross-verifygin with hand-coded sentences"
     ],
     "language": "python",
     "metadata": {},
     "outputs": []
    },
    {
     "cell_type": "markdown",
     "metadata": {},
     "source": [
      "## Recently primed\n",
      "\n",
      "Subliminally, or on a longer-term process involving Decision-by-Sampling."
     ]
    },
    {
     "cell_type": "code",
     "collapsed": false,
     "input": [
      "# Build a task for that"
     ],
     "language": "python",
     "metadata": {},
     "outputs": []
    },
    {
     "cell_type": "markdown",
     "metadata": {},
     "source": [
      "## Common or surprisingly uncommon idea or line of thought\n",
      "\n",
      "Common fallacies, \"truths\", or reasoning mechanisms, depending on the age.\n",
      "\n",
      "Involving common (or saliently uncommon) associations of an idea to a category.\n",
      "\n",
      "**e.g.:**\n",
      "\n",
      "* \"I think when you spread the wealth around it's good for everybody\" -> \"spread the wealth\" is a politically common category"
     ]
    },
    {
     "cell_type": "code",
     "collapsed": false,
     "input": [
      "# List of common ideas and lines of thought, with sentences hand-coded as having those ideas or not"
     ],
     "language": "python",
     "metadata": {},
     "outputs": []
    },
    {
     "cell_type": "markdown",
     "metadata": {},
     "source": [
      "## Epistemic horizon\n",
      "\n",
      "Set of background ideas and reasonings, i.e. the pillars sustaining a discourse, although never mentionned.\n",
      "\n",
      "**e.g.:**\n",
      "\n",
      "* \"Our nation is at war against a far-reaching network of violence and hatred our economy is badly weakened a consequence of greed and irresponsibility on the part of some but also our collective failure to make hard choices and prepare the nation for a new age\""
     ]
    },
    {
     "cell_type": "code",
     "collapsed": false,
     "input": [
      "# Use hand-coded discourse analysis\n",
      "\n",
      "# Use context in blog posts, blogs from same author"
     ],
     "language": "python",
     "metadata": {},
     "outputs": []
    },
    {
     "cell_type": "markdown",
     "metadata": {},
     "source": [
      "## Investigate more\n",
      "\n",
      "* Injustices\n",
      "* Other cognitive biases (like Iowa gambling task) or strong capabilities (like injustice detection)\n",
      "* Discourse analysis and semiology tools, like an evaluation of those (ask Leda for a discourse analysis on \"My fellow citizens i stand here today humbled by the task before us grateful for the trust you have bestowed mindful of the sacrifices borne by our ancestors...\")\n",
      "* Storyteller schemas\n",
      "* Metaphors\n",
      "* \"Social\" index for a sentence"
     ]
    },
    {
     "cell_type": "markdown",
     "metadata": {},
     "source": [
      "# Transformations"
     ]
    },
    {
     "cell_type": "markdown",
     "metadata": {},
     "source": [
      "## Extract an \"important\" sub-part"
     ]
    },
    {
     "cell_type": "markdown",
     "metadata": {},
     "source": [
      "## People or character interchange\n",
      "\n",
      "Either in a story, or the author who gets attribution. Depending on if there's a feature binding that character to that position."
     ]
    },
    {
     "cell_type": "markdown",
     "metadata": {},
     "source": [
      "## Emotional load of words\n",
      "\n",
      "Move to more impacting words\n",
      "\n",
      "**e.g.:**\n",
      "\n",
      "* \"Fundamentals of our economy are strong\" (~500 mentions) *v.* \"fundamentals of the economy are sound\" (~50 mentions) *v.* \"fundamentals of the economy are strong\" (~400 mentions)"
     ]
    },
    {
     "cell_type": "markdown",
     "metadata": {},
     "source": [
      "## Epistemic horizon interacts with Social background"
     ]
    }
   ],
   "metadata": {}
  }
 ]
}